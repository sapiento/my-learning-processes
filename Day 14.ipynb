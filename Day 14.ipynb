{
 "cells": [
  {
   "cell_type": "markdown",
   "metadata": {},
   "source": [
    "# Class work\n"
   ]
  },
  {
   "cell_type": "code",
   "execution_count": 1,
   "metadata": {},
   "outputs": [
    {
     "name": "stdout",
     "output_type": "stream",
     "text": [
      "======== The lsit of the phone that the store have=======\n",
      "1 . NOKIA:2020:5000\n"
     ]
    }
   ],
   "source": [
    "class phonesstore:\n",
    "    def __init__(self,PhoneName,ModelNumber,Price):\n",
    "        self.PhoneName=PhoneName\n",
    "        self.ModelNumber=ModelNumber\n",
    "        self.Price=Price\n",
    "        \n",
    "    def getprice(self):\n",
    "        return self.Price\n",
    "    def getmodel(self):\n",
    "        return self.ModelNumber\n",
    "    def __str__(self):\n",
    "        return self.PhoneName +':' + str(self.getmodel())+ ':' + str(self.getprice())\n",
    "def price(rec, PhoneName,ModelNumber,Price):\n",
    "    rec.append(phonesstore(PhoneName,ModelNumber, Price))\n",
    "    return rec\n",
    "record= []\n",
    "x= input('enter Y as yes and N as no to perfom your operation:')\n",
    "while x=='Y':\n",
    "    PhoneName=input('Phone Name: ')\n",
    "    ModelNumber=input('Model Number: ')\n",
    "    Price=input('Price')\n",
    "    record= price(record,PhoneName, ModelNumber,Price)\n",
    "    x=input('enter Y as Yes and N as no to perform your operation:')\n",
    "    n=1\n",
    "    print(\"======== The lsit of the phone that the store have=======\")\n",
    "    for item in record:\n",
    "        print(n,'.',item)\n",
    "        n=n+1\n",
    "    \n",
    "    "
   ]
  },
  {
   "cell_type": "code",
   "execution_count": 12,
   "metadata": {},
   "outputs": [],
   "source": [
    "#try\n",
    "#except\n",
    "#else\n",
    "#finally"
   ]
  },
  {
   "cell_type": "code",
   "execution_count": 3,
   "metadata": {},
   "outputs": [
    {
     "name": "stdout",
     "output_type": "stream",
     "text": [
      "You have entered a wrong value, only integer value should be entered\n",
      "End of program\n"
     ]
    }
   ],
   "source": []
  },
  {
   "cell_type": "code",
   "execution_count": null,
   "metadata": {},
   "outputs": [],
   "source": []
  },
  {
   "cell_type": "code",
   "execution_count": null,
   "metadata": {},
   "outputs": [],
   "source": []
  },
  {
   "cell_type": "code",
   "execution_count": null,
   "metadata": {},
   "outputs": [],
   "source": []
  },
  {
   "cell_type": "code",
   "execution_count": 2,
   "metadata": {},
   "outputs": [
    {
     "name": "stdout",
     "output_type": "stream",
     "text": [
      "23 *20= 460\n",
      "23** 20=1716155831334586342923895201\n",
      "End of program\n"
     ]
    }
   ],
   "source": [
    "try:\n",
    "    num1=int(input('Enter First Number'))\n",
    "    num2=int(input('Enter Second Number'))\n",
    "    operation= input('''+: Addition\n",
    "-: Subtaction\n",
    "*:Multiplication\n",
    "/:Division\n",
    "''')\n",
    "    if operation=='+':\n",
    "            print(f'{num1} +{num2}= {num1+num2}')\n",
    "    elif operation=='-':\n",
    "            print(f'{num1} -{num2}= {num1-num2}')\n",
    "    elif operation=='*':\n",
    "            print(f'{num1} *{num2}= {num1*num2}')\n",
    "    elif operation=='/':\n",
    "            print(f'{num1} /{num2}= {num1/num2}')\n",
    "except ValueError:\n",
    "    print('You have entered a wrong value, only integer value should be entered')\n",
    "except ZeroDivisionError:\n",
    "    print('You cannot divide a number by zero')\n",
    "except:\n",
    "        print('You have encountered one or more errors')\n",
    "else:\n",
    "    print(f'{num1}** {num2}={num1**num2}')\n",
    "finally:\n",
    "    print('End of program')\n",
    "    "
   ]
  }
 ],
 "metadata": {
  "kernelspec": {
   "display_name": "Python 3.9.12 ('base')",
   "language": "python",
   "name": "python3"
  },
  "language_info": {
   "codemirror_mode": {
    "name": "ipython",
    "version": 3
   },
   "file_extension": ".py",
   "mimetype": "text/x-python",
   "name": "python",
   "nbconvert_exporter": "python",
   "pygments_lexer": "ipython3",
   "version": "3.9.12"
  },
  "vscode": {
   "interpreter": {
    "hash": "dc07d24e2f18896857f0b2a651fe84ba40ce7b297e58d8804a308c8039f752a6"
   }
  }
 },
 "nbformat": 4,
 "nbformat_minor": 4
}
