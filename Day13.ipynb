{
 "cells": [
  {
   "cell_type": "code",
   "execution_count": 2,
   "metadata": {},
   "outputs": [
    {
     "name": "stdout",
     "output_type": "stream",
     "text": [
      "Bark\n"
     ]
    }
   ],
   "source": [
    "# Class and Object\n",
    "# its a prototype or blue-print\n",
    "class dog:\n",
    "    attr1= 'Mammal'\n",
    "    attr2= 'Bark'\n",
    "obj1= dog()\n",
    "print(obj1.attr2)"
   ]
  },
  {
   "cell_type": "markdown",
   "metadata": {},
   "source": [
    "# Class and method"
   ]
  },
  {
   "cell_type": "code",
   "execution_count": 8,
   "metadata": {},
   "outputs": [
    {
     "name": "stdout",
     "output_type": "stream",
     "text": [
      " Rocky belongs to the family of Mammal\n",
      "None\n"
     ]
    }
   ],
   "source": [
    "class dog:\n",
    "    attr1= 'Mammal'\n",
    "    attr2= 'Bark'\n",
    "    def family(animal):\n",
    "        print(f' Rocky belongs to the family of {animal.attr1}')\n",
    "obj1= dog()\n",
    "print(obj1.family())"
   ]
  },
  {
   "cell_type": "markdown",
   "metadata": {},
   "source": [
    "# Building a car simulation game using class and method"
   ]
  },
  {
   "cell_type": "code",
   "execution_count": 3,
   "metadata": {},
   "outputs": [],
   "source": [
    "class simulationgame:\n",
    "    def __init__(self,Brand,Model,Color,Year,Speed):\n",
    "        self.Brand=Brand\n",
    "        self.Model=Model\n",
    "        self.Color=Color\n",
    "        self.Year=Year\n",
    "        self.Speed=Speed\n",
    "    def start(self):\n",
    "        print(f'{self.Brand}{self.Model} has started')\n",
    "    def gear(self):\n",
    "        choice=int(input('please choose a gear= '))\n",
    "        if choice== 1:\n",
    "            print('gear changed to 1')\n",
    "        elif choice== 2:\n",
    "            print('gear changed to 2')\n",
    "        elif choice== 3:\n",
    "            print('gear changed to 3')\n",
    "        elif choice== 4:\n",
    "            print('gear changed to 4')\n",
    "        elif choice== 5:\n",
    "            print('gear changed to 5')\n",
    "        elif choice== 6:\n",
    "            print('gearput on reverse')\n",
    "    def nitro(self, ch):\n",
    "        if ch==1:\n",
    "            print('Nitro Engaged')\n",
    "        else:\n",
    "            print('Nitro DisEngaaged')\n",
    "    def stop(self):\n",
    "        print(f'{self.Brand}{self.Model} has stopped and parked')\n",
    "car1=simulationgame('Audi','A4','Blue', 2018, 350)"
   ]
  },
  {
   "cell_type": "code",
   "execution_count": 2,
   "metadata": {},
   "outputs": [
    {
     "name": "stdout",
     "output_type": "stream",
     "text": [
      "AudiA4 has started\n"
     ]
    }
   ],
   "source": [
    "car1.start()"
   ]
  },
  {
   "cell_type": "raw",
   "metadata": {},
   "source": [
    "car1.gear()"
   ]
  },
  {
   "cell_type": "code",
   "execution_count": 2,
   "metadata": {},
   "outputs": [
    {
     "name": "stdout",
     "output_type": "stream",
     "text": [
      "Nitro Engaged\n"
     ]
    }
   ],
   "source": [
    "car1.nitro(1)"
   ]
  },
  {
   "cell_type": "code",
   "execution_count": 18,
   "metadata": {},
   "outputs": [
    {
     "name": "stdout",
     "output_type": "stream",
     "text": [
      "AudiA4 has stopped and parked\n"
     ]
    }
   ],
   "source": [
    "car1.stop()"
   ]
  },
  {
   "cell_type": "code",
   "execution_count": 19,
   "metadata": {},
   "outputs": [
    {
     "name": "stdout",
     "output_type": "stream",
     "text": [
      "GolfM5 has started\n"
     ]
    }
   ],
   "source": [
    "class sedan(simulationgame):\n",
    "    def openroof(self,ch):\n",
    "        if ch==1:\n",
    "            print('Roof opened')\n",
    "        else:\n",
    "            print('Roof closed')\n",
    "car2= sedan('Golf', 'M5', 'Black', 2021, 400)\n",
    "car2.start()"
   ]
  },
  {
   "cell_type": "code",
   "execution_count": 4,
   "metadata": {},
   "outputs": [],
   "source": [
    "class sonic:\n",
    "    def __init__(self, charctername,charctercolor,mainpower,generalpower):\n",
    "        self.charctername=charctername\n",
    "        self.charctercolor=charctercolor\n",
    "        self.mainpower=mainpower\n",
    "        self.generalpower=generalpower\n",
    "    def start(self):\n",
    "        print(f'{self.charctername}has started')\n",
    "    def obstacle1(self):\n",
    "        choice=int(input('please choose an option= '))\n",
    "        if choice== 1:\n",
    "            print('jump over')\n",
    "        elif choice== 2:\n",
    "            print('roll over')\n",
    "    def obstacle2(self):\n",
    "        choice=int(input('please choose an option= '))\n",
    "        if choice== 1:\n",
    "            print('jump over')\n",
    "        elif choice== 2:\n",
    "            print('activate power boot and jump over')\n",
    "    def direction (self):\n",
    "        choice=input('please choose an option= ')\n",
    "        if choice== 'L':\n",
    "            print('change direction to Left')\n",
    "        elif choice== 'R':\n",
    "            print('change direction to Right')\n",
    "        else:\n",
    "            print('maintain direction')\n",
    "        \n",
    "    def end(self):\n",
    "        print(f'{self.charctername} game closed')\n",
    "player1=sonic('Hedgehog','Blue','Supersmash','miles tails prower')\n",
    "        "
   ]
  },
  {
   "cell_type": "code",
   "execution_count": 33,
   "metadata": {},
   "outputs": [
    {
     "name": "stdout",
     "output_type": "stream",
     "text": [
      "Hedgehoghas started\n"
     ]
    }
   ],
   "source": [
    "player1.start()"
   ]
  },
  {
   "cell_type": "code",
   "execution_count": 7,
   "metadata": {},
   "outputs": [
    {
     "name": "stdout",
     "output_type": "stream",
     "text": [
      "please choose an option= 2\n",
      "roll over\n"
     ]
    }
   ],
   "source": [
    "player1.obstacle1()"
   ]
  },
  {
   "cell_type": "code",
   "execution_count": 6,
   "metadata": {},
   "outputs": [
    {
     "name": "stdout",
     "output_type": "stream",
     "text": [
      "please choose an option= 2\n",
      "activate power boot and jump over\n"
     ]
    }
   ],
   "source": [
    "player1.obstacle2()"
   ]
  },
  {
   "cell_type": "code",
   "execution_count": 36,
   "metadata": {},
   "outputs": [
    {
     "name": "stdout",
     "output_type": "stream",
     "text": [
      "please choose an option= L\n",
      "change direction to Left\n"
     ]
    }
   ],
   "source": [
    "player1.direction()"
   ]
  },
  {
   "cell_type": "code",
   "execution_count": 38,
   "metadata": {},
   "outputs": [
    {
     "name": "stdout",
     "output_type": "stream",
     "text": [
      "Hedgehog game closed\n"
     ]
    }
   ],
   "source": [
    "player1.end()"
   ]
  },
  {
   "cell_type": "code",
   "execution_count": null,
   "metadata": {},
   "outputs": [],
   "source": []
  }
 ],
 "metadata": {
  "kernelspec": {
   "display_name": "Python 3 (ipykernel)",
   "language": "python",
   "name": "python3"
  },
  "language_info": {
   "codemirror_mode": {
    "name": "ipython",
    "version": 3
   },
   "file_extension": ".py",
   "mimetype": "text/x-python",
   "name": "python",
   "nbconvert_exporter": "python",
   "pygments_lexer": "ipython3",
   "version": "3.9.12"
  }
 },
 "nbformat": 4,
 "nbformat_minor": 4
}
