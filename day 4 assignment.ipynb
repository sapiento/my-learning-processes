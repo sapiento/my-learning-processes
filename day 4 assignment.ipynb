{
 "cells": [
  {
   "cell_type": "markdown",
   "id": "ce899493",
   "metadata": {},
   "source": [
    "# A student will not be allowed to sit in exam if his/her attendence is less than 75%.\n",
    "\n",
    "Take following input from user\n",
    "\n",
    "Number of classes held\n",
    "\n",
    "Number of classes attended.\n",
    "\n",
    "And print\n",
    "\n",
    "percentage of class attended\n",
    "\n",
    "Is student is allowed to sit in exam or not."
   ]
  },
  {
   "cell_type": "code",
   "execution_count": 1,
   "id": "d582f998",
   "metadata": {},
   "outputs": [
    {
     "name": "stdout",
     "output_type": "stream",
     "text": [
      "you're allowed to take the exam please be sitted\n"
     ]
    }
   ],
   "source": [
    "minimumallow=75\n",
    "Attended=int(input('please provide the number of  times you have attended classes'))\n",
    "Class = int(input('how many classes was held total'))\n",
    "perofclassatt= Attended*100/Class\n",
    "if perofclassatt>=minimumallow:\n",
    "    print(f'you\\'re allowed to take the exam please be sitted')\n",
    "else:\n",
    "    print(f'you\\'re not allow to write the exam please leave the hall')"
   ]
  },
  {
   "cell_type": "markdown",
   "id": "bcbc53d3",
   "metadata": {},
   "source": [
    "# Ask user to enter age, sex ( M or F ), marital status ( Y or N ) and then using following rules print their place of service.\n",
    "\n",
    "if employee is female, then she will work only in urban areas.\n",
    "\n",
    " \n",
    "\n",
    "if employee is a male and age is in between 20 to 40 then he may work in anywhere\n",
    "\n",
    " \n",
    "\n",
    "if employee is male and age is in between 40 t0 60 then he will work in urban areas only.\n",
    "\n",
    " \n",
    "\n",
    "And any other input of age should print \"ERROR\".\n",
    "\n",
    "\n"
   ]
  },
  {
   "cell_type": "code",
   "execution_count": 3,
   "id": "05498aa2",
   "metadata": {},
   "outputs": [
    {
     "name": "stdout",
     "output_type": "stream",
     "text": [
      "you may work anywhere\n"
     ]
    }
   ],
   "source": [
    "Sex=str(input('please provide your gender:')).lower()\n",
    "Maritalsatus=str(input ('please provide yor marital status:')).lower()\n",
    "Age=int(input('please provide your age:'))\n",
    "if Sex=='female':\n",
    "    print(f'you will work only in urban areas')\n",
    "elif Sex=='male' and Age<(40.20):\n",
    "    print(f'you may work anywhere')\n",
    "elif Sex=='male' and Age<(60.40):\n",
    "    print(f'you will work in urban areas only')\n",
    "else:\n",
    "    print(\"\")"
   ]
  },
  {
   "cell_type": "markdown",
   "id": "40add8eb",
   "metadata": {},
   "source": [
    "# Take input of age of 3 people by user and determine oldest and youngest among them"
   ]
  },
  {
   "cell_type": "code",
   "execution_count": 4,
   "id": "dc319d83",
   "metadata": {},
   "outputs": [
    {
     "name": "stdout",
     "output_type": "stream",
     "text": [
      "32 user3 is the oldest\n"
     ]
    }
   ],
   "source": [
    "\n",
    "user1=int(input('please provide your age user1:'))\n",
    "user2=int(input('please provide your age user2:'))\n",
    "user3=int(input('please provide your age user3:'))\n",
    "if user1>user2 and user1>user3:\n",
    "    print(f'{user1} user1 is the oldest')\n",
    "elif user2>user1 and user2>user3:\n",
    "    print(f'{user2} user2 is the oldest')\n",
    "elif user3>user1 and user3>user2:\n",
    " print (f'{user3} user3 is the oldest')\n",
    "else:\n",
    "    print(f'no oldest')\n",
    "\n"
   ]
  },
  {
   "cell_type": "markdown",
   "id": "4fde46bd",
   "metadata": {},
   "source": [
    "# Take two int values from user and print greatest among them"
   ]
  },
  {
   "cell_type": "code",
   "execution_count": 2,
   "id": "c50e8edc",
   "metadata": {},
   "outputs": [
    {
     "name": "stdout",
     "output_type": "stream",
     "text": [
      "4 is the greatest\n"
     ]
    }
   ],
   "source": [
    "Uservalue1=int(input('please user1 provide a value :'))\n",
    "uservalue2=int(input('please user2 provide a value :'))\n",
    "if Uservalue1 > uservalue2:\n",
    "    print(f'{Uservalue1} is the greatest')\n",
    "else:\n",
    "    print(f'{uservalue2} is the greatest')"
   ]
  },
  {
   "cell_type": "markdown",
   "id": "e61284a8",
   "metadata": {},
   "source": [
    "# A company decided to give bonus of 5% to employee if his/her year of service is more than 5 years.\n",
    "\n",
    "Ask user for their salary and year of service and print the net bonus amount."
   ]
  },
  {
   "cell_type": "code",
   "execution_count": 4,
   "id": "ff83342f",
   "metadata": {},
   "outputs": [
    {
     "name": "stdout",
     "output_type": "stream",
     "text": [
      "your net bonus is 4326\n"
     ]
    }
   ],
   "source": [
    "#Gratuity = (Basic salary x Dearness Allowance) x 15/26 x Number of years of service\n",
    "minimumyear=5\n",
    "bs= int(input('please provide your salary :'))\n",
    "ys= int(input('please provide your years of service :'))\n",
    "net_bonus =bs*5*15*ys//2600\n",
    "if ys >= 5:\n",
    "    print(f'your net bonus is {net_bonus}')\n",
    "else:\n",
    "    print(f'you\\'re not qualify for the bonus')"
   ]
  },
  {
   "cell_type": "code",
   "execution_count": null,
   "id": "475fdd0f",
   "metadata": {},
   "outputs": [],
   "source": []
  }
 ],
 "metadata": {
  "kernelspec": {
   "display_name": "Python 3.9.12 ('base')",
   "language": "python",
   "name": "python3"
  },
  "language_info": {
   "codemirror_mode": {
    "name": "ipython",
    "version": 3
   },
   "file_extension": ".py",
   "mimetype": "text/x-python",
   "name": "python",
   "nbconvert_exporter": "python",
   "pygments_lexer": "ipython3",
   "version": "3.9.12"
  },
  "vscode": {
   "interpreter": {
    "hash": "dc07d24e2f18896857f0b2a651fe84ba40ce7b297e58d8804a308c8039f752a6"
   }
  }
 },
 "nbformat": 4,
 "nbformat_minor": 5
}
