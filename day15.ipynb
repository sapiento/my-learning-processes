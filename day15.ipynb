{
 "cells": [
  {
   "cell_type": "code",
   "execution_count": 1,
   "id": "d7a9a573",
   "metadata": {},
   "outputs": [],
   "source": [
    "#writing a iq test program using formular\n",
    "#iq=mentalage|physicalage|*100"
   ]
  },
  {
   "cell_type": "code",
   "execution_count": 2,
   "id": "82e7aa5b",
   "metadata": {},
   "outputs": [],
   "source": [
    "#HOW TO WRITE  FILE\n",
    "#W,R,A,R+"
   ]
  },
  {
   "cell_type": "code",
   "execution_count": 4,
   "id": "240ebec1",
   "metadata": {},
   "outputs": [],
   "source": [
    "#WRITIN FILE\n",
    "file1=open('demo.doc','w')\n",
    "file1.write('''Hey welcome to earlycode training centre\n",
    "We offer the following course\n",
    "1.python with data science\n",
    "2.fullstack webdevelopment\n",
    "3.Android and IOS app development\n",
    "''')\n",
    "file1.close()"
   ]
  },
  {
   "cell_type": "code",
   "execution_count": 5,
   "id": "6cdc01ae",
   "metadata": {},
   "outputs": [
    {
     "name": "stdout",
     "output_type": "stream",
     "text": [
      "Hey welcome to earlycode training centre\n",
      "We offer the following course\n",
      "1.python with data science\n",
      "2.fullstack webdevelopment\n",
      "3.Android and IOS app development\n",
      "\n"
     ]
    }
   ],
   "source": [
    "file2=open('demo.doc','r')\n",
    "print(file2.read())\n",
    "file2.close()"
   ]
  },
  {
   "cell_type": "code",
   "execution_count": 7,
   "id": "76731bb8",
   "metadata": {},
   "outputs": [],
   "source": [
    "file3=open('demo.doc','a')\n",
    "file3.write('we are always at your service')\n",
    "file3.close()"
   ]
  },
  {
   "cell_type": "code",
   "execution_count": 11,
   "id": "c5e1dd71",
   "metadata": {},
   "outputs": [
    {
     "name": "stdout",
     "output_type": "stream",
     "text": [
      "Hey welcome to earlycode training centre\n",
      "We offer the following course\n",
      "1.python with data science\n",
      "2.fullstack webdevelopment\n",
      "3.Android and IOS app development\n",
      "we are always at your servicecontact us at no 62 gado nako road 1st floor pronet mall kubwa abuja\n"
     ]
    }
   ],
   "source": [
    "file4=open('demo.doc','r+')\n",
    "print(file4.read())\n",
    "file4.write('contact us at no 62 gado nako road 1st floor pronet mall kubwa abuja')\n",
    "file4.close()"
   ]
  },
  {
   "cell_type": "code",
   "execution_count": null,
   "id": "b5568b01",
   "metadata": {},
   "outputs": [],
   "source": []
  }
 ],
 "metadata": {
  "kernelspec": {
   "display_name": "Python 3.9.12 ('base')",
   "language": "python",
   "name": "python3"
  },
  "language_info": {
   "codemirror_mode": {
    "name": "ipython",
    "version": 3
   },
   "file_extension": ".py",
   "mimetype": "text/x-python",
   "name": "python",
   "nbconvert_exporter": "python",
   "pygments_lexer": "ipython3",
   "version": "3.9.12"
  },
  "vscode": {
   "interpreter": {
    "hash": "dc07d24e2f18896857f0b2a651fe84ba40ce7b297e58d8804a308c8039f752a6"
   }
  }
 },
 "nbformat": 4,
 "nbformat_minor": 5
}
