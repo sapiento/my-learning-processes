{
 "cells": [
  {
   "cell_type": "code",
   "execution_count": 1,
   "id": "0653c802",
   "metadata": {},
   "outputs": [],
   "source": [
    "import datetime"
   ]
  },
  {
   "cell_type": "code",
   "execution_count": 2,
   "id": "1adcb757",
   "metadata": {},
   "outputs": [
    {
     "name": "stdout",
     "output_type": "stream",
     "text": [
      "['MAXYEAR', 'MINYEAR', '__all__', '__builtins__', '__cached__', '__doc__', '__file__', '__loader__', '__name__', '__package__', '__spec__', 'date', 'datetime', 'datetime_CAPI', 'sys', 'time', 'timedelta', 'timezone', 'tzinfo']\n"
     ]
    }
   ],
   "source": [
    "print(dir(datetime))"
   ]
  },
  {
   "cell_type": "code",
   "execution_count": 5,
   "id": "f382e1c9",
   "metadata": {},
   "outputs": [],
   "source": [
    "date1=datetime.date(2022,2,24)"
   ]
  },
  {
   "cell_type": "code",
   "execution_count": 17,
   "id": "3719732e",
   "metadata": {},
   "outputs": [
    {
     "name": "stdout",
     "output_type": "stream",
     "text": [
      "2022\n",
      "2\n",
      "24\n",
      "3\n",
      "4\n"
     ]
    }
   ],
   "source": [
    "print(date1.year)\n",
    "print(date1.month)\n",
    "print(date1.day)\n",
    "print(date1.weekday())\n",
    "print(date1.isoweekday())"
   ]
  },
  {
   "cell_type": "code",
   "execution_count": 7,
   "id": "0abcf87e",
   "metadata": {},
   "outputs": [
    {
     "name": "stdout",
     "output_type": "stream",
     "text": [
      "2022-06-21\n"
     ]
    }
   ],
   "source": [
    "#how to generate the current date\n",
    "currentdate=datetime.date.today()\n",
    "print(currentdate)"
   ]
  },
  {
   "cell_type": "code",
   "execution_count": 9,
   "id": "c0e9dc6b",
   "metadata": {},
   "outputs": [
    {
     "data": {
      "text/plain": [
       "'Tuesday'"
      ]
     },
     "execution_count": 9,
     "metadata": {},
     "output_type": "execute_result"
    }
   ],
   "source": [
    "#strftime:this is use fo the modification of date and time\n",
    "currentdate.strftime('%A')"
   ]
  },
  {
   "cell_type": "code",
   "execution_count": 10,
   "id": "e5316979",
   "metadata": {},
   "outputs": [
    {
     "data": {
      "text/plain": [
       "'Jun'"
      ]
     },
     "execution_count": 10,
     "metadata": {},
     "output_type": "execute_result"
    }
   ],
   "source": [
    "currentdate.strftime('%b')"
   ]
  },
  {
   "cell_type": "code",
   "execution_count": 13,
   "id": "71035e17",
   "metadata": {},
   "outputs": [
    {
     "data": {
      "text/plain": [
       "'22'"
      ]
     },
     "execution_count": 13,
     "metadata": {},
     "output_type": "execute_result"
    }
   ],
   "source": [
    "currentdate.strftime('%y')"
   ]
  },
  {
   "cell_type": "code",
   "execution_count": 14,
   "id": "9c1364a4",
   "metadata": {},
   "outputs": [
    {
     "data": {
      "text/plain": [
       "'21 June,2022'"
      ]
     },
     "execution_count": 14,
     "metadata": {},
     "output_type": "execute_result"
    }
   ],
   "source": [
    "currentdate.strftime('%d %B,%Y')"
   ]
  },
  {
   "cell_type": "markdown",
   "id": "df6a84fd",
   "metadata": {},
   "source": [
    "# TIME\n"
   ]
  },
  {
   "cell_type": "code",
   "execution_count": 15,
   "id": "67659836",
   "metadata": {},
   "outputs": [],
   "source": [
    "time1=datetime.time(10,54,59,150000)"
   ]
  },
  {
   "cell_type": "code",
   "execution_count": 18,
   "id": "444602c0",
   "metadata": {},
   "outputs": [
    {
     "name": "stdout",
     "output_type": "stream",
     "text": [
      "10\n",
      "54\n",
      "59\n",
      "150000\n"
     ]
    }
   ],
   "source": [
    "print(time1.hour)\n",
    "print(time1.minute)\n",
    "print(time1.second)\n",
    "print(time1.microsecond)"
   ]
  },
  {
   "cell_type": "code",
   "execution_count": 21,
   "id": "91800b41",
   "metadata": {},
   "outputs": [],
   "source": [
    "currenttime=datetime.datetime.now().time()"
   ]
  },
  {
   "cell_type": "code",
   "execution_count": 22,
   "id": "5699b9f6",
   "metadata": {},
   "outputs": [
    {
     "name": "stdout",
     "output_type": "stream",
     "text": [
      "17:37:19.053795\n"
     ]
    }
   ],
   "source": [
    "print(currenttime)"
   ]
  },
  {
   "cell_type": "code",
   "execution_count": 23,
   "id": "e3c677fa",
   "metadata": {},
   "outputs": [
    {
     "data": {
      "text/plain": [
       "'17'"
      ]
     },
     "execution_count": 23,
     "metadata": {},
     "output_type": "execute_result"
    }
   ],
   "source": [
    "currenttime.strftime('%H')"
   ]
  },
  {
   "cell_type": "code",
   "execution_count": 24,
   "id": "dc69de3b",
   "metadata": {},
   "outputs": [
    {
     "data": {
      "text/plain": [
       "'05'"
      ]
     },
     "execution_count": 24,
     "metadata": {},
     "output_type": "execute_result"
    }
   ],
   "source": [
    "currenttime.strftime('%I')"
   ]
  },
  {
   "cell_type": "code",
   "execution_count": 25,
   "id": "269e8eaa",
   "metadata": {},
   "outputs": [
    {
     "data": {
      "text/plain": [
       "'37'"
      ]
     },
     "execution_count": 25,
     "metadata": {},
     "output_type": "execute_result"
    }
   ],
   "source": [
    "currenttime.strftime('%M')"
   ]
  },
  {
   "cell_type": "code",
   "execution_count": 26,
   "id": "90e9436c",
   "metadata": {},
   "outputs": [
    {
     "data": {
      "text/plain": [
       "'19'"
      ]
     },
     "execution_count": 26,
     "metadata": {},
     "output_type": "execute_result"
    }
   ],
   "source": [
    "currenttime.strftime('%S')"
   ]
  },
  {
   "cell_type": "code",
   "execution_count": 27,
   "id": "1a8e1929",
   "metadata": {},
   "outputs": [
    {
     "data": {
      "text/plain": [
       "'053795'"
      ]
     },
     "execution_count": 27,
     "metadata": {},
     "output_type": "execute_result"
    }
   ],
   "source": [
    "currenttime.strftime('%f')"
   ]
  },
  {
   "cell_type": "code",
   "execution_count": 28,
   "id": "c0eb4324",
   "metadata": {},
   "outputs": [
    {
     "data": {
      "text/plain": [
       "'PM'"
      ]
     },
     "execution_count": 28,
     "metadata": {},
     "output_type": "execute_result"
    }
   ],
   "source": [
    "currenttime.strftime('%p')"
   ]
  },
  {
   "cell_type": "markdown",
   "id": "98c71276",
   "metadata": {},
   "source": [
    "# date and time"
   ]
  },
  {
   "cell_type": "code",
   "execution_count": 29,
   "id": "cc2e3cae",
   "metadata": {},
   "outputs": [
    {
     "name": "stdout",
     "output_type": "stream",
     "text": [
      "2022-06-21 17:45:11.555860\n"
     ]
    }
   ],
   "source": [
    "currentdatetime=datetime.datetime.now()\n",
    "print(currentdatetime)"
   ]
  },
  {
   "cell_type": "markdown",
   "id": "a50bbe0a",
   "metadata": {},
   "source": [
    "# have a list of 5 friends and forward a message saying \"HEY{nae of the friends in the list}this is  kin reminder of our party holding on 25 july,22 12pm"
   ]
  },
  {
   "cell_type": "code",
   "execution_count": 40,
   "id": "3cf73f26",
   "metadata": {},
   "outputs": [
    {
     "name": "stdout",
     "output_type": "stream",
     "text": [
      "Hey naza this is a kind reminder of our party holidng on 25 July, 2022 12PM prompt\n",
      "Hey nedu this is a kind reminder of our party holidng on 25 July, 2022 12PM prompt\n",
      "Hey nelo this is a kind reminder of our party holidng on 25 July, 2022 12PM prompt\n",
      "Hey obum this is a kind reminder of our party holidng on 25 July, 2022 12PM prompt\n",
      "Hey dan this is a kind reminder of our party holidng on 25 July, 2022 12PM prompt\n"
     ]
    }
   ],
   "source": [
    "import datetime\n",
    "friends=['naza','nedu','nelo','obum','dan']\n",
    "date1=datetime.datetime(2022,7,25,12,00,00,000000)\n",
    "for name in friends:\n",
    "    print('Hey',name,'this is a kind reminder of our party holidng on',date1.strftime('%d %B, %Y %I%p prompt') )\n"
   ]
  },
  {
   "cell_type": "code",
   "execution_count": 42,
   "id": "fb39fe6e",
   "metadata": {},
   "outputs": [
    {
     "name": "stdout",
     "output_type": "stream",
     "text": [
      "please enter your year of birth(yy/mm/dd):1999/8/1\n",
      "1999-08-01\n"
     ]
    }
   ],
   "source": [
    "YOB=input('please enter your year of birth(yy/mm/dd):')\n",
    "cyob=datetime.datetime.strptime(YOB,'%Y/%m/%d').date()\n",
    "print(cyob)"
   ]
  },
  {
   "cell_type": "markdown",
   "id": "518de70f",
   "metadata": {},
   "source": [
    "\n",
    "# time delta:this is the difference between two dates and times"
   ]
  },
  {
   "cell_type": "code",
   "execution_count": 43,
   "id": "656bbadf",
   "metadata": {},
   "outputs": [
    {
     "data": {
      "text/plain": [
       "datetime.date(2023, 1, 7)"
      ]
     },
     "execution_count": 43,
     "metadata": {},
     "output_type": "execute_result"
    }
   ],
   "source": [
    "tdelta=datetime.timedelta(days=200)\n",
    "currentdate+tdelta"
   ]
  },
  {
   "cell_type": "code",
   "execution_count": 44,
   "id": "0af71fe8",
   "metadata": {},
   "outputs": [
    {
     "data": {
      "text/plain": [
       "datetime.date(2021, 12, 3)"
      ]
     },
     "execution_count": 44,
     "metadata": {},
     "output_type": "execute_result"
    }
   ],
   "source": [
    "currentdate-tdelta"
   ]
  },
  {
   "cell_type": "code",
   "execution_count": 49,
   "id": "d0ac8eb6",
   "metadata": {},
   "outputs": [
    {
     "ename": "TypeError",
     "evalue": "unsupported operand type(s) for -: 'datetime.date' and 'datetime.datetime'",
     "output_type": "error",
     "traceback": [
      "\u001b[1;31m---------------------------------------------------------------------------\u001b[0m",
      "\u001b[1;31mTypeError\u001b[0m                                 Traceback (most recent call last)",
      "Input \u001b[1;32mIn [49]\u001b[0m, in \u001b[0;36m<cell line: 1>\u001b[1;34m()\u001b[0m\n\u001b[1;32m----> 1\u001b[0m \u001b[43mcurrentdate\u001b[49m\u001b[43m \u001b[49m\u001b[38;5;241;43m-\u001b[39;49m\u001b[43m \u001b[49m\u001b[43mdate1\u001b[49m\n",
      "\u001b[1;31mTypeError\u001b[0m: unsupported operand type(s) for -: 'datetime.date' and 'datetime.datetime'"
     ]
    }
   ],
   "source": [
    "currentdate - date1"
   ]
  },
  {
   "cell_type": "markdown",
   "id": "888a8338",
   "metadata": {},
   "source": [
    "# write a program to calculate how many seconds to answer 5 questions\n"
   ]
  },
  {
   "cell_type": "code",
   "execution_count": 6,
   "id": "d21d1b43",
   "metadata": {},
   "outputs": [
    {
     "name": "stdout",
     "output_type": "stream",
     "text": [
      "What position does marcelo plays for realmadrid:lb\n",
      "How many clubs do we have in netherland league:45\n",
      "How many datatype do we considered in the course of our program:4\n",
      "How many legs does spider has:8\n",
      "What type of language is python:high\n",
      "Your score is 5 in 27 seconds\n"
     ]
    }
   ],
   "source": [
    "import datetime\n",
    "score=0\n",
    "time=0\n",
    "output={\n",
    "    'Q1':['Gk','AM','SW','LB'],\n",
    "    'Q2':[16,15,45,20,18],\n",
    "    'Q3':[6,3,4,5,6],\n",
    "    'Q4':[9,8,10,15],\n",
    "    'Q5':['Pogramming','High','Scripting','Machine']\n",
    "}\n",
    "start_time=datetime.datetime.now()\n",
    "\n",
    "answer=input('What position does marcelo plays for realmadrid:')\n",
    "if answer==output['Q1'][3]:\n",
    "    score=score+5\n",
    "else:\n",
    "    score=score+0\n",
    "answer=input('How many clubs do we have in netherland league:')\n",
    "if answer==output['Q2'][4]:\n",
    "    score=score+5\n",
    "else:\n",
    "    score=score+0\n",
    "answer=int(input('How many datatype do we considered in the course of our program:'))\n",
    "if answer==output['Q3'][2]:\n",
    "    score=score+5\n",
    "else:\n",
    "    score=score+0\n",
    "answer=input('How many legs does spider has:')\n",
    "if answer==output['Q4'][1]:\n",
    "    score=score+5\n",
    "else:\n",
    "    score=score+0\n",
    "answer=input('What type of language is python:')\n",
    "if answer==output['Q5'][0]:\n",
    "    score=score+5\n",
    "else:\n",
    "    score=score+0\n",
    "    \n",
    "stop_time= datetime.datetime.now()\n",
    "diff=stop_time-start_time\n",
    "time=diff.seconds\n",
    "print(f'Your score is {score} in {time} seconds')\n"
   ]
  },
  {
   "cell_type": "code",
   "execution_count": null,
   "id": "96caf12b",
   "metadata": {},
   "outputs": [],
   "source": []
  }
 ],
 "metadata": {
  "kernelspec": {
   "display_name": "Python 3 (ipykernel)",
   "language": "python",
   "name": "python3"
  },
  "language_info": {
   "codemirror_mode": {
    "name": "ipython",
    "version": 3
   },
   "file_extension": ".py",
   "mimetype": "text/x-python",
   "name": "python",
   "nbconvert_exporter": "python",
   "pygments_lexer": "ipython3",
   "version": "3.9.12"
  }
 },
 "nbformat": 4,
 "nbformat_minor": 5
}
