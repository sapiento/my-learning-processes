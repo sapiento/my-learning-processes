{
 "cells": [
  {
   "cell_type": "markdown",
   "metadata": {},
   "source": [
    "# Tuple\n",
    "# Tuple is unchangeable\n",
    "# Tuple must be ordered\n",
    "# Tuple is donated with ( )\n",
    "# We must index location to get a value from the tuple"
   ]
  },
  {
   "cell_type": "code",
   "execution_count": 2,
   "metadata": {},
   "outputs": [
    {
     "name": "stdout",
     "output_type": "stream",
     "text": [
      "<class 'tuple'>\n"
     ]
    }
   ],
   "source": [
    "numbers= (45,23,20,30,45,90,58,65,60,78,92,45,86)\n",
    "print(type(numbers))"
   ]
  },
  {
   "cell_type": "code",
   "execution_count": 3,
   "metadata": {},
   "outputs": [
    {
     "name": "stdout",
     "output_type": "stream",
     "text": [
      "13\n"
     ]
    }
   ],
   "source": [
    "print(len(numbers))"
   ]
  },
  {
   "cell_type": "code",
   "execution_count": 4,
   "metadata": {},
   "outputs": [
    {
     "name": "stdout",
     "output_type": "stream",
     "text": [
      "58\n"
     ]
    }
   ],
   "source": [
    "print(numbers[6])"
   ]
  },
  {
   "cell_type": "code",
   "execution_count": 5,
   "metadata": {},
   "outputs": [
    {
     "name": "stdout",
     "output_type": "stream",
     "text": [
      "58\n"
     ]
    }
   ],
   "source": [
    "print(numbers[-7])"
   ]
  },
  {
   "cell_type": "code",
   "execution_count": 6,
   "metadata": {},
   "outputs": [
    {
     "name": "stdout",
     "output_type": "stream",
     "text": [
      "(45, 90, 58, 65, 60)\n"
     ]
    }
   ],
   "source": [
    "print(numbers[4:9])"
   ]
  },
  {
   "cell_type": "code",
   "execution_count": 7,
   "metadata": {},
   "outputs": [
    {
     "name": "stdout",
     "output_type": "stream",
     "text": [
      "False\n"
     ]
    }
   ],
   "source": [
    "print(400 in numbers)"
   ]
  },
  {
   "cell_type": "code",
   "execution_count": 8,
   "metadata": {},
   "outputs": [
    {
     "name": "stdout",
     "output_type": "stream",
     "text": [
      "3\n"
     ]
    }
   ],
   "source": [
    "print(numbers.count(45))"
   ]
  },
  {
   "cell_type": "code",
   "execution_count": 9,
   "metadata": {},
   "outputs": [
    {
     "name": "stdout",
     "output_type": "stream",
     "text": [
      "5\n"
     ]
    }
   ],
   "source": [
    "print(numbers.index(90))"
   ]
  },
  {
   "cell_type": "markdown",
   "metadata": {},
   "source": [
    "# list\n",
    "#list is changeable\n",
    "#list can be ordered or unordered\n",
    "#list is donated with []\n",
    "#we use index location to get a value from list \n"
   ]
  },
  {
   "cell_type": "code",
   "execution_count": 10,
   "metadata": {},
   "outputs": [],
   "source": [
    "fruit= ['Apple', 'Mango','cherry', 'banana', 'coconut' ]"
   ]
  },
  {
   "cell_type": "code",
   "execution_count": 11,
   "metadata": {},
   "outputs": [
    {
     "name": "stdout",
     "output_type": "stream",
     "text": [
      "['Apple', 'Mango', 'cherry', 'banana', 'coconut', 'strawberry']\n"
     ]
    }
   ],
   "source": [
    "fruit.append('strawberry')#append will add new value at the end of the list\n",
    "print(fruit)"
   ]
  },
  {
   "cell_type": "code",
   "execution_count": 12,
   "metadata": {},
   "outputs": [
    {
     "name": "stdout",
     "output_type": "stream",
     "text": [
      "['Apple', 'Mango', 'cherry', 'banana', 'coconut', 'strawberry', 'pawpaw', 'apple', 'lemon', 'grape', 'pear']\n"
     ]
    }
   ],
   "source": [
    "store= ['pawpaw','apple','lemon','grape','pear']\n",
    "fruit.extend(store)#extend will move the values from list to another list \n",
    "print(fruit)"
   ]
  },
  {
   "cell_type": "code",
   "execution_count": 13,
   "metadata": {},
   "outputs": [
    {
     "name": "stdout",
     "output_type": "stream",
     "text": [
      "['Apple', 'Mango', 'cherry', 'banana', 'coconut', 'pear', 'strawberry', 'pawpaw', 'apple', 'lemon', 'grape', 'pear']\n"
     ]
    }
   ],
   "source": [
    "fruit.insert(5,'pear')#insert will add a value to a specific location\n",
    "print(fruit)"
   ]
  },
  {
   "cell_type": "code",
   "execution_count": 14,
   "metadata": {},
   "outputs": [
    {
     "data": {
      "text/plain": [
       "'pear'"
      ]
     },
     "execution_count": 14,
     "metadata": {},
     "output_type": "execute_result"
    }
   ],
   "source": [
    "fruit.pop(5)#pop is use for removing a value from the list"
   ]
  },
  {
   "cell_type": "code",
   "execution_count": 15,
   "metadata": {},
   "outputs": [
    {
     "name": "stdout",
     "output_type": "stream",
     "text": [
      "['Apple', 'Mango', 'cherry', 'banana', 'coconut', 'strawberry', 'pawpaw', 'apple', 'lemon', 'grape', 'pear']\n"
     ]
    }
   ],
   "source": [
    "print(fruit)"
   ]
  },
  {
   "cell_type": "code",
   "execution_count": 16,
   "metadata": {},
   "outputs": [
    {
     "name": "stdout",
     "output_type": "stream",
     "text": [
      "['Apple', 'cherry', 'banana', 'coconut', 'strawberry', 'pawpaw', 'apple', 'lemon', 'grape', 'pear']\n"
     ]
    }
   ],
   "source": [
    "fruit.remove('Mango')#to remove you have to specifer the value\n",
    "print(fruit)"
   ]
  },
  {
   "cell_type": "code",
   "execution_count": 17,
   "metadata": {},
   "outputs": [
    {
     "name": "stdout",
     "output_type": "stream",
     "text": [
      "['Apple', 'cherry', 'banana', 'coconut', 'strawberry', 'pawpaw', 'apple', 'lemon', 'grape', 'pear']\n"
     ]
    }
   ],
   "source": [
    "fruit2= fruit.copy()\n",
    "print(fruit)"
   ]
  },
  {
   "cell_type": "code",
   "execution_count": 18,
   "metadata": {},
   "outputs": [
    {
     "name": "stdout",
     "output_type": "stream",
     "text": [
      "[]\n"
     ]
    }
   ],
   "source": [
    "fruit.clear()#clear is use to emty the list\n",
    "print(fruit)"
   ]
  },
  {
   "cell_type": "code",
   "execution_count": 19,
   "metadata": {},
   "outputs": [
    {
     "name": "stdout",
     "output_type": "stream",
     "text": [
      "['Apple', 'apple', 'banana', 'cherry', 'coconut', 'grape', 'lemon', 'pawpaw', 'pear', 'strawberry']\n"
     ]
    }
   ],
   "source": [
    "fruit2.sort()#sort is use to arrange in alphabetical order\n",
    "print(fruit2)"
   ]
  },
  {
   "cell_type": "code",
   "execution_count": 20,
   "metadata": {},
   "outputs": [
    {
     "name": "stdout",
     "output_type": "stream",
     "text": [
      "['Apple', 'apple', 'banana', 'cherry', 'coconut', 'grape', 'lemon', 'pawpaw', 'pear', 'strawberry']\n"
     ]
    }
   ],
   "source": [
    "fruit2.reverse\n",
    "print(fruit2)"
   ]
  },
  {
   "cell_type": "code",
   "execution_count": 21,
   "metadata": {},
   "outputs": [
    {
     "ename": "NameError",
     "evalue": "name 'fruit2' is not defined",
     "output_type": "error",
     "traceback": [
      "\u001b[1;31m---------------------------------------------------------------------------\u001b[0m",
      "\u001b[1;31mNameError\u001b[0m                                 Traceback (most recent call last)",
      "\u001b[1;32mc:\\Users\\HP\\Documents\\shezzysapiento\\day3.ipynb Cell 22'\u001b[0m in \u001b[0;36m<cell line: 2>\u001b[1;34m()\u001b[0m\n\u001b[0;32m      <a href='vscode-notebook-cell:/c%3A/Users/HP/Documents/shezzysapiento/day3.ipynb#ch0000021?line=0'>1</a>\u001b[0m \u001b[39mdel\u001b[39;00m(fruit2)\n\u001b[1;32m----> <a href='vscode-notebook-cell:/c%3A/Users/HP/Documents/shezzysapiento/day3.ipynb#ch0000021?line=1'>2</a>\u001b[0m \u001b[39mprint\u001b[39m(fruit2)\n",
      "\u001b[1;31mNameError\u001b[0m: name 'fruit2' is not defined"
     ]
    }
   ],
   "source": [
    "del(fruit2)\n",
    "print(fruit2)"
   ]
  },
  {
   "cell_type": "markdown",
   "metadata": {},
   "source": [
    "# dictionary\n",
    "#Dictionary is changeable\n",
    "#Dictionary can be ordered or unordered\n",
    "#Dictionary is donated with {}\n",
    "#We use the key to get the value from dictionary \n"
   ]
  },
  {
   "cell_type": "code",
   "execution_count": null,
   "metadata": {},
   "outputs": [
    {
     "name": "stdout",
     "output_type": "stream",
     "text": [
      "23\n"
     ]
    }
   ],
   "source": [
    "details = {\n",
    "'Name':'shedrack',\n",
    "'Age':23,\n",
    "'Gender':'Male',\n",
    "'Height':1.78,\n",
    "'weight':69\n",
    "}\n",
    "print(details['Age'])"
   ]
  },
  {
   "cell_type": "code",
   "execution_count": null,
   "metadata": {},
   "outputs": [
    {
     "data": {
      "text/plain": [
       "dict_values(['shedrack', 23, 'Male', 1.78, 69])"
      ]
     },
     "execution_count": 33,
     "metadata": {},
     "output_type": "execute_result"
    }
   ],
   "source": [
    "details.values()"
   ]
  },
  {
   "cell_type": "code",
   "execution_count": null,
   "metadata": {},
   "outputs": [
    {
     "data": {
      "text/plain": [
       "dict_items([('Name', 'shedrack'), ('Age', 23), ('Gender', 'Male'), ('Height', 1.78), ('weight', 69)])"
      ]
     },
     "execution_count": 34,
     "metadata": {},
     "output_type": "execute_result"
    }
   ],
   "source": [
    "details.items()"
   ]
  },
  {
   "cell_type": "code",
   "execution_count": null,
   "metadata": {},
   "outputs": [
    {
     "name": "stdout",
     "output_type": "stream",
     "text": [
      "Jame\n"
     ]
    }
   ],
   "source": [
    "record= {\n",
    "'Name':['Ade','Ojo','Jame','jane'],\n",
    "'Age':[45,50,28,32]\n",
    "}\n",
    "print(record['Name'][2])"
   ]
  },
  {
   "cell_type": "code",
   "execution_count": null,
   "metadata": {},
   "outputs": [],
   "source": []
  }
 ],
 "metadata": {
  "kernelspec": {
   "display_name": "Python 3.9.12 ('base')",
   "language": "python",
   "name": "python3"
  },
  "language_info": {
   "codemirror_mode": {
    "name": "ipython",
    "version": 3
   },
   "file_extension": ".py",
   "mimetype": "text/x-python",
   "name": "python",
   "nbconvert_exporter": "python",
   "pygments_lexer": "ipython3",
   "version": "3.9.12"
  },
  "vscode": {
   "interpreter": {
    "hash": "dc07d24e2f18896857f0b2a651fe84ba40ce7b297e58d8804a308c8039f752a6"
   }
  }
 },
 "nbformat": 4,
 "nbformat_minor": 4
}
