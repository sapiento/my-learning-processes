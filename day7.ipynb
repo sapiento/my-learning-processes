{
 "cells": [
  {
   "cell_type": "code",
   "execution_count": 17,
   "id": "4d5a3ecc",
   "metadata": {},
   "outputs": [
    {
     "name": "stdout",
     "output_type": "stream",
     "text": [
      "WELCOME TO SIMPLEANSWER MEDICAL CONSULTANT\n",
      "BEFORE WE CHECK YOUR BODY MASS INDEX  PLEASE PROVIDE US WITH FOLLOWING INFORMATION\n",
      "plase Enter your name:shedrack\n",
      "please Enter your gender:male\n",
      "please Enter your age:23\n",
      "please Enter your country:nigeria\n",
      "Name:shedrack\n",
      "Gender:male\n",
      "Age:23\n",
      "Country:nigeria\n",
      "\n",
      "Welcome shedrack from nigeria\n",
      "Please provide your weight87\n",
      "plase provide your height5.4\n",
      "Your BMI score is 2.9835390946502054, Therefore you are Underweight see Doctor Animashun\n"
     ]
    }
   ],
   "source": [
    "def intro():\n",
    "    print('WELCOME TO SIMPLEANSWER MEDICAL CONSULTANT')\n",
    "    print('BEFORE WE CHECK YOUR BODY MASS INDEX  PLEASE PROVIDE US WITH FOLLOWING INFORMATION')\n",
    "    name=input('plase Enter your name:')\n",
    "    gender=input('please Enter your gender:')\n",
    "    age=int(input('please Enter your age:'))\n",
    "    country=input('please Enter your country:')\n",
    "    print(f'''Name:{name}\n",
    "Gender:{gender}\n",
    "Age:{age}\n",
    "Country:{country}\n",
    "''')\n",
    "    print(f'Welcome {name} from {country}')\n",
    "    \n",
    "def main_function():\n",
    "    intro()\n",
    "    weight=float(input('Please provide your weight'))\n",
    "    height=float(input('plase provide your height'))\n",
    "    bmi=(weight)/(height**2)\n",
    "    if bmi < 18.5:\n",
    "        print(f'Your BMI score is {bmi}, Therefore you are Underweight see Doctor Animashun')\n",
    "    elif bmi >= 18.5 and bmi <= 30:\n",
    "        print(f'Your BMI score is {bmi}, Therefore you are Healthy Maintain your Diet')\n",
    "    elif bmi>=25 and bmi<=30:\n",
    "        print(f'Your BMI score is {bmi}, Therefore you are overweight see Doctor Mary for proper Management')\n",
    "    else:\n",
    "        print(f'You BMI score is {bmi}, Therefore you are OBSSE see Doctor Afod Immediately for proper management and check up')\n",
    "main_function()\n",
    "    \n",
    "\n",
    "\n",
    "\n",
    "  "
   ]
  },
  {
   "cell_type": "code",
   "execution_count": 1,
   "id": "7f701266",
   "metadata": {},
   "outputs": [
    {
     "data": {
      "text/plain": [
       "14.89966442575134"
      ]
     },
     "execution_count": 1,
     "metadata": {},
     "output_type": "execute_result"
    }
   ],
   "source": [
    "#lambda fuction(it doesnt have a name )\n",
    "#it doesnt need print to bring out the information\n",
    "# all the expression must be on a straight line\n",
    "import math\n",
    "(lambda num:math.sqrt(num))(int(input('please provide a number')))"
   ]
  },
  {
   "cell_type": "code",
   "execution_count": 28,
   "id": "72b1afc3",
   "metadata": {},
   "outputs": [
    {
     "name": "stdout",
     "output_type": "stream",
     "text": [
      "please provide a nameShedrack\n"
     ]
    },
    {
     "data": {
      "text/plain": [
       "'Shedrack start with upper case'"
      ]
     },
     "execution_count": 28,
     "metadata": {},
     "output_type": "execute_result"
    }
   ],
   "source": [
    "(lambda name: f'{name} start with upper case' if name[0]==name[0].upper() else f'{name} does not start with uppercase')(input('please provide a name'))"
   ]
  },
  {
   "cell_type": "code",
   "execution_count": 2,
   "id": "90480607",
   "metadata": {},
   "outputs": [
    {
     "name": "stdout",
     "output_type": "stream",
     "text": [
      "shedrack doesnt not start with upper case \n"
     ]
    }
   ],
   "source": [
    "name = input('please provide a name :')\n",
    "if name[0]==name[0].upper:\n",
    "    print(f'{name} start with uppercase')\n",
    "else:\n",
    "    print(f'{name} doesnt not start with upper case ')"
   ]
  },
  {
   "cell_type": "code",
   "execution_count": 3,
   "id": "eefa1e6b",
   "metadata": {},
   "outputs": [
    {
     "name": "stdout",
     "output_type": "stream",
     "text": [
      "['BINGO', 'CAPPY', 'BELLA', 'FREEMAN']\n"
     ]
    }
   ],
   "source": [
    "dogs=['Bingo','Cappy','Bella','Freeman']\n",
    "udogs= list(map(lambda x:str.upper(x),dogs))\n",
    "print(udogs)"
   ]
  },
  {
   "cell_type": "code",
   "execution_count": 4,
   "id": "083a3082",
   "metadata": {},
   "outputs": [
    {
     "name": "stdout",
     "output_type": "stream",
     "text": [
      "['Bingo', 'Bella']\n"
     ]
    }
   ],
   "source": [
    "dogs=['Bingo','Cappy','Bella','Freeman']\n",
    "udogs= list(filter(lambda x: x.startswith('B'),dogs))\n",
    "print(udogs)"
   ]
  }
 ],
 "metadata": {
  "kernelspec": {
   "display_name": "Python 3.9.12 ('base')",
   "language": "python",
   "name": "python3"
  },
  "language_info": {
   "codemirror_mode": {
    "name": "ipython",
    "version": 3
   },
   "file_extension": ".py",
   "mimetype": "text/x-python",
   "name": "python",
   "nbconvert_exporter": "python",
   "pygments_lexer": "ipython3",
   "version": "3.9.12"
  },
  "vscode": {
   "interpreter": {
    "hash": "dc07d24e2f18896857f0b2a651fe84ba40ce7b297e58d8804a308c8039f752a6"
   }
  }
 },
 "nbformat": 4,
 "nbformat_minor": 5
}
