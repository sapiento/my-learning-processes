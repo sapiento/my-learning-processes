{
 "cells": [
  {
   "cell_type": "code",
   "execution_count": 1,
   "metadata": {},
   "outputs": [
    {
     "name": "stdout",
     "output_type": "stream",
     "text": [
      "\n",
      "Operations used, \n",
      "\n",
      "1.Accept Student details\n",
      "2.Display Student Details\n",
      "3.Search Details of a Student\n",
      "4.Delete Details of Student\n",
      "5.Update Student Details\n",
      "6.Exit\n"
     ]
    }
   ],
   "source": [
    "# This is simplest Student data management program in python\n",
    "# Create class \"Student\"\n",
    "# Create a list to add Students\n",
    "class studentmanagementsystem:\n",
    "    def __init__(self,firstname,middlename,surname,gender,dob,address,stateoforigin,seatnumber):\n",
    "        self.firstname =  firstname\n",
    "        self.middlename =  middlename\n",
    "        self.surname =  surname\n",
    "        self.gender =  gender\n",
    "        self.dob =  dob\n",
    "        self.address =  address\n",
    "        self.stateoforigin =  stateoforigin\n",
    "        self.seatnumber =  seatnumber\n",
    "    def accept(selfself,firstname,middlename,surname,gender,dob,address,FIRSTNAME,MIDDLENAME,SURNAME,GENDER,DOB,ADDRESS,STATEOFORIGIN,SEATNUMBER):\n",
    "        ob= studentmanagementsystem(FIRSTNAME,MIDDLENAME,SURNAME,GENDER,DOB,ADDRESS,STATEOFORIGIN,SEATNUMBER)\n",
    "        studentlist.append(ob)\n",
    "    def display(self,ob):\n",
    "        print(f'''Firstname =  {ob.firstname}\n",
    "Middlename =  {ob.middlename}\n",
    "Surname =  {ob.surname}\n",
    "Gender =  {ob.gender}\n",
    "DOB =  {ob.dob}\n",
    "Address =  {ob.address}\n",
    "Stateoforigin =  {ob.stateoforigin}\n",
    "Seatnumber =  {ob.seatnumber}\n",
    "''')\n",
    "    def search(self,sn):\n",
    "        for i in range(len(studentlist)):\n",
    "            if (studentlist[i].seatnumber ==sn):\n",
    "                return i\n",
    "    def update(self,sn,nsn):\n",
    "        i = obj.search(sn)\n",
    "        seat = nsn\n",
    "        studentlist[i].seatnumber = seat\n",
    "    def delete(self,sn):\n",
    "        i = obj.search(sn)\n",
    "        del(studentlist[i])\n",
    "        \n",
    "        \n",
    "studentlist = []\n",
    "\n",
    "obj = studentmanagementsystem('','','','','','','',0)\n",
    "\t\t\n",
    "\n",
    "\n",
    "\n",
    "print(\"\\nOperations used, \")\n",
    "print(\"\\n1.Accept Student details\\n2.Display Student Details\\n3.Search Details of a Student\\n4.Delete Details of Student\\n5.Update Student Details\\n6.Exit\")\n",
    "\n",
    "x = input('enter Y as yes and N as no to perform your operation: ')\n",
    "n = 1\n",
    "while x =='Y':\n",
    "    ch = int(input(\"Enter choice:\"))\n",
    "    if(ch == 1):\n",
    "        obj.accept(input('Please enter first name:'),'Ojo','Akinlabi','Male','2000-02-8','St patrick street','Oyo',1)\n",
    "        obj.accept('Mary','Uju','Okoro','Female','2002-05-8','St Agness street','Abia',2)\n",
    "        obj.accept('Edidion','Blessing','Akpan','Female','1999-10-26','N0 26 Highway street','Akwa-ibom',3)\n",
    "        obj.accept('Samuel','Joe','Lawal','Male','2000-08-8','Obasonjo street','Kaduna',4)\n",
    "        obj.accept('Onomi','Blessing','Peters','Female','1996-02-8','St james street','Benue',5)\n",
    "                        \n",
    "    elif(ch == 2):\n",
    "        print('LIST OF STUDENTS')\n",
    "        for i in range(len(studentlist)):\n",
    "            obj.display(studentlist[i])\n",
    "    elif(ch == 3):\n",
    "        s = obj.search(int(input('Enter seat number from 1 -5:')))\n",
    "        obj.display(studentlist[s])\n",
    "            \n",
    "    elif(ch == 4):\n",
    "        obj.update(int(input('Enter seat number from 1 -5:')),8)\n",
    "        for i in range(len(studentlist)):\n",
    "            obj.display(studentlist[i])\n",
    "        \n",
    "                \n",
    "    elif(ch == 5):\n",
    "        obj.delete(int(input('Enter seat number from 1 -5:')))\n",
    "        print('list after deletion')\n",
    "        for i in range(len(studentlist)):\n",
    "            obj.display(studentlist[i])\n",
    "                    \n",
    "    else:\n",
    "        print(\"Thank You !\")\n",
    "    x = input('enter Y as yes and N as no to perform your operation: ')\n",
    "    n +=1\n",
    "        \n"
   ]
  },
  {
   "cell_type": "code",
   "execution_count": null,
   "metadata": {},
   "outputs": [],
   "source": []
  },
  {
   "cell_type": "code",
   "execution_count": null,
   "metadata": {},
   "outputs": [],
   "source": []
  }
 ],
 "metadata": {
  "kernelspec": {
   "display_name": "Python 3.9.12 ('base')",
   "language": "python",
   "name": "python3"
  },
  "language_info": {
   "codemirror_mode": {
    "name": "ipython",
    "version": 3
   },
   "file_extension": ".py",
   "mimetype": "text/x-python",
   "name": "python",
   "nbconvert_exporter": "python",
   "pygments_lexer": "ipython3",
   "version": "3.9.12"
  },
  "vscode": {
   "interpreter": {
    "hash": "dc07d24e2f18896857f0b2a651fe84ba40ce7b297e58d8804a308c8039f752a6"
   }
  }
 },
 "nbformat": 4,
 "nbformat_minor": 4
}
