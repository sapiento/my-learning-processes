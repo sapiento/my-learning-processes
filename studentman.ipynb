{
 "cells": [
  {
   "cell_type": "code",
   "execution_count": 1,
   "id": "deeb168c",
   "metadata": {},
   "outputs": [],
   "source": [
    "class studentmanagementsystem:\n",
    "    def __init__(self,firstname,middlename,surname,gender,dob,address,stateoforigin,seatnumber):\n",
    "        self.firstname =  firstname\n",
    "        self.middlename =  middlename\n",
    "        self.surname =  surname\n",
    "        self.gender =  gender\n",
    "        self.dob =  dob\n",
    "        self.address =  address\n",
    "        self.stateoforigin =  stateoforigin\n",
    "        self.seatnumber =  seatnumber\n",
    "    def accept(self,FIRSTNAME,MIDDLENAME,SURNAME,GENDER,DOB,ADDRESS,STATEOFORIGIN,SEATNUMBER):\n",
    "        ob= studentmanagementsystem(FIRSTNAME,MIDDLENAME,SURNAME,GENDER,DOB,ADDRESS,STATEOFORIGIN,SEATNUMBER)\n",
    "        studentlist.append(ob)\n",
    "    def display(self,ob):\n",
    "        print(f'''Firstname =  {ob.firstname}\n",
    "Middlename =  {ob.middlename}\n",
    "Surname =  {ob.surname}\n",
    "Gender =  {ob.gender}\n",
    "DOB =  {ob.dob}\n",
    "Address =  {ob.address}\n",
    "Stateoforigin =  {ob.stateoforigin}\n",
    "Seatnumber =  {ob.seatnumber}\n",
    "''')\n",
    "    def search(self,sn):\n",
    "        for i in range(len(studentlist)):\n",
    "            if (studentlist[i].seatnumber ==sn):\n",
    "                return i\n",
    "    def update(self,sn,nsn):\n",
    "        i = obj.search(sn)\n",
    "        seat = nsn\n",
    "        studentlist[i].seatnumber = seat\n",
    "    def delete(self,sn):\n",
    "        i = obj.search(sn)\n",
    "        del(studentlist[i])\n",
    "        \n",
    "        \n",
    "studentlist = []\n",
    "\n",
    "obj = studentmanagementsystem('','','','','','','',0)"
   ]
  },
  {
   "cell_type": "code",
   "execution_count": 2,
   "id": "d07eeeec",
   "metadata": {},
   "outputs": [],
   "source": [
    "obj.accept('Aina','Ojo','Akinlabi','Male','2000-02-8','St patrick street','Oyo',1)\n",
    "obj.accept('Mary','Uju','Okoro','Female','2002-05-8','St Agness street','Abia',2)\n",
    "obj.accept('Edidion','Blessing','Akpan','Female','1999-10-26','N0 26 Highway street','Akwa-ibom',3)\n",
    "obj.accept('Samuel','Joe','Lawal','Male','2000-08-8','Obasonjo street','Kaduna',4)\n",
    "obj.accept('Onomi','Blessing','Peters','Female','1996-02-8','St james street','Benue',5)"
   ]
  },
  {
   "cell_type": "code",
   "execution_count": 3,
   "id": "5370dc5c",
   "metadata": {},
   "outputs": [
    {
     "name": "stdout",
     "output_type": "stream",
     "text": [
      "LIST OF STUDENTS\n",
      "Firstname =  Aina\n",
      "Middlename =  Ojo\n",
      "Surname =  Akinlabi\n",
      "Gender =  Male\n",
      "DOB =  2000-02-8\n",
      "Address =  St patrick street\n",
      "Stateoforigin =  Oyo\n",
      "Seatnumber =  1\n",
      "\n",
      "Firstname =  Mary\n",
      "Middlename =  Uju\n",
      "Surname =  Okoro\n",
      "Gender =  Female\n",
      "DOB =  2002-05-8\n",
      "Address =  St Agness street\n",
      "Stateoforigin =  Abia\n",
      "Seatnumber =  2\n",
      "\n",
      "Firstname =  Edidion\n",
      "Middlename =  Blessing\n",
      "Surname =  Akpan\n",
      "Gender =  Female\n",
      "DOB =  1999-10-26\n",
      "Address =  N0 26 Highway street\n",
      "Stateoforigin =  Akwa-ibom\n",
      "Seatnumber =  3\n",
      "\n",
      "Firstname =  Samuel\n",
      "Middlename =  Joe\n",
      "Surname =  Lawal\n",
      "Gender =  Male\n",
      "DOB =  2000-08-8\n",
      "Address =  Obasonjo street\n",
      "Stateoforigin =  Kaduna\n",
      "Seatnumber =  4\n",
      "\n",
      "Firstname =  Onomi\n",
      "Middlename =  Blessing\n",
      "Surname =  Peters\n",
      "Gender =  Female\n",
      "DOB =  1996-02-8\n",
      "Address =  St james street\n",
      "Stateoforigin =  Benue\n",
      "Seatnumber =  5\n",
      "\n"
     ]
    }
   ],
   "source": [
    "print('LIST OF STUDENTS')\n",
    "for i in range(len(studentlist)):\n",
    "    obj.display(studentlist[i])"
   ]
  },
  {
   "cell_type": "code",
   "execution_count": 10,
   "id": "0534e8c3",
   "metadata": {},
   "outputs": [
    {
     "name": "stdout",
     "output_type": "stream",
     "text": [
      "Firstname =  Samuel\n",
      "Middlename =  Joe\n",
      "Surname =  Lawal\n",
      "Gender =  Male\n",
      "DOB =  2000-08-8\n",
      "Address =  Obasonjo street\n",
      "Stateoforigin =  Kaduna\n",
      "Seatnumber =  4\n",
      "\n"
     ]
    }
   ],
   "source": [
    "s = obj.search(int(input('Enter seat number from 1 -5:')))\n",
    "obj.display(studentlist[s])"
   ]
  },
  {
   "cell_type": "code",
   "execution_count": 6,
   "id": "e8d2fd7f",
   "metadata": {},
   "outputs": [
    {
     "name": "stdout",
     "output_type": "stream",
     "text": [
      "Firstname =  Aina\n",
      "Middlename =  Ojo\n",
      "Surname =  Akinlabi\n",
      "Gender =  Male\n",
      "DOB =  2000-02-8\n",
      "Address =  St patrick street\n",
      "Stateoforigin =  Oyo\n",
      "Seatnumber =  8\n",
      "\n",
      "Firstname =  Mary\n",
      "Middlename =  Uju\n",
      "Surname =  Okoro\n",
      "Gender =  Female\n",
      "DOB =  2002-05-8\n",
      "Address =  St Agness street\n",
      "Stateoforigin =  Abia\n",
      "Seatnumber =  2\n",
      "\n",
      "Firstname =  Edidion\n",
      "Middlename =  Blessing\n",
      "Surname =  Akpan\n",
      "Gender =  Female\n",
      "DOB =  1999-10-26\n",
      "Address =  N0 26 Highway street\n",
      "Stateoforigin =  Akwa-ibom\n",
      "Seatnumber =  8\n",
      "\n",
      "Firstname =  Samuel\n",
      "Middlename =  Joe\n",
      "Surname =  Lawal\n",
      "Gender =  Male\n",
      "DOB =  2000-08-8\n",
      "Address =  Obasonjo street\n",
      "Stateoforigin =  Kaduna\n",
      "Seatnumber =  4\n",
      "\n",
      "Firstname =  Onomi\n",
      "Middlename =  Blessing\n",
      "Surname =  Peters\n",
      "Gender =  Female\n",
      "DOB =  1996-02-8\n",
      "Address =  St james street\n",
      "Stateoforigin =  Benue\n",
      "Seatnumber =  5\n",
      "\n"
     ]
    }
   ],
   "source": [
    "obj.update(int(input('Enter seat number from 1 -5:')),8)\n",
    "for i in range(len(studentlist)):\n",
    "    obj.display(studentlist[i])"
   ]
  },
  {
   "cell_type": "code",
   "execution_count": 6,
   "id": "a34a6d0c",
   "metadata": {},
   "outputs": [
    {
     "name": "stdout",
     "output_type": "stream",
     "text": [
      "list after deletion\n",
      "Firstname =  Aina\n",
      "Middlename =  Ojo\n",
      "Surname =  Akinlabi\n",
      "Gender =  Male\n",
      "DOB =  2000-02-8\n",
      "Address =  St patrick street\n",
      "Stateoforigin =  Oyo\n",
      "Seatnumber =  8\n",
      "\n",
      "Firstname =  Samuel\n",
      "Middlename =  Joe\n",
      "Surname =  Lawal\n",
      "Gender =  Male\n",
      "DOB =  2000-08-8\n",
      "Address =  Obasonjo street\n",
      "Stateoforigin =  Kaduna\n",
      "Seatnumber =  4\n",
      "\n",
      "Firstname =  Onomi\n",
      "Middlename =  Blessing\n",
      "Surname =  Peters\n",
      "Gender =  Female\n",
      "DOB =  1996-02-8\n",
      "Address =  St james street\n",
      "Stateoforigin =  Benue\n",
      "Seatnumber =  5\n",
      "\n"
     ]
    }
   ],
   "source": [
    "obj.delete(int(input('Enter seat number from 1 -5:')))\n",
    "print('list after deletion')\n",
    "for i in range(len(studentlist)):\n",
    "    obj.display(studentlist[i])"
   ]
  },
  {
   "cell_type": "code",
   "execution_count": null,
   "id": "50db32a1",
   "metadata": {},
   "outputs": [],
   "source": []
  },
  {
   "cell_type": "code",
   "execution_count": null,
   "id": "6541c9f9",
   "metadata": {},
   "outputs": [],
   "source": []
  }
 ],
 "metadata": {
  "kernelspec": {
   "display_name": "Python 3.9.12 ('base')",
   "language": "python",
   "name": "python3"
  },
  "language_info": {
   "codemirror_mode": {
    "name": "ipython",
    "version": 3
   },
   "file_extension": ".py",
   "mimetype": "text/x-python",
   "name": "python",
   "nbconvert_exporter": "python",
   "pygments_lexer": "ipython3",
   "version": "3.9.12"
  },
  "vscode": {
   "interpreter": {
    "hash": "dc07d24e2f18896857f0b2a651fe84ba40ce7b297e58d8804a308c8039f752a6"
   }
  }
 },
 "nbformat": 4,
 "nbformat_minor": 5
}
